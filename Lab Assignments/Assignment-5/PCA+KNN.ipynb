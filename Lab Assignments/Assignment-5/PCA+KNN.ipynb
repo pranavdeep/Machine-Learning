{
  "nbformat": 4,
  "nbformat_minor": 0,
  "metadata": {
    "colab": {
      "name": "Knn_mnist.ipynb",
      "provenance": []
    },
    "kernelspec": {
      "display_name": "Python 3",
      "name": "python3"
    },
    "widgets": {
      "application/vnd.jupyter.widget-state+json": {
        "e515a36736b74b2aa7f0cb9b35bc4f27": {
          "model_module": "@jupyter-widgets/controls",
          "model_name": "HBoxModel",
          "state": {
            "_view_name": "HBoxView",
            "_dom_classes": [],
            "_model_name": "HBoxModel",
            "_view_module": "@jupyter-widgets/controls",
            "_model_module_version": "1.5.0",
            "_view_count": null,
            "_view_module_version": "1.5.0",
            "box_style": "",
            "layout": "IPY_MODEL_ad2700856f1046c483076dfde5389855",
            "_model_module": "@jupyter-widgets/controls",
            "children": [
              "IPY_MODEL_eb06d8b293ef4690bfce284c4e658fe7",
              "IPY_MODEL_2688faa3e0e54bff813ed8a3c68336ff"
            ]
          }
        },
        "ad2700856f1046c483076dfde5389855": {
          "model_module": "@jupyter-widgets/base",
          "model_name": "LayoutModel",
          "state": {
            "_view_name": "LayoutView",
            "grid_template_rows": null,
            "right": null,
            "justify_content": null,
            "_view_module": "@jupyter-widgets/base",
            "overflow": null,
            "_model_module_version": "1.2.0",
            "_view_count": null,
            "flex_flow": null,
            "width": null,
            "min_width": null,
            "border": null,
            "align_items": null,
            "bottom": null,
            "_model_module": "@jupyter-widgets/base",
            "top": null,
            "grid_column": null,
            "overflow_y": null,
            "overflow_x": null,
            "grid_auto_flow": null,
            "grid_area": null,
            "grid_template_columns": null,
            "flex": null,
            "_model_name": "LayoutModel",
            "justify_items": null,
            "grid_row": null,
            "max_height": null,
            "align_content": null,
            "visibility": null,
            "align_self": null,
            "height": null,
            "min_height": null,
            "padding": null,
            "grid_auto_rows": null,
            "grid_gap": null,
            "max_width": null,
            "order": null,
            "_view_module_version": "1.2.0",
            "grid_template_areas": null,
            "object_position": null,
            "object_fit": null,
            "grid_auto_columns": null,
            "margin": null,
            "display": null,
            "left": null
          }
        },
        "eb06d8b293ef4690bfce284c4e658fe7": {
          "model_module": "@jupyter-widgets/controls",
          "model_name": "FloatProgressModel",
          "state": {
            "_view_name": "ProgressView",
            "style": "IPY_MODEL_58f235261f5c41018f66d698e3c1e3a6",
            "_dom_classes": [],
            "description": "100%",
            "_model_name": "FloatProgressModel",
            "bar_style": "success",
            "max": 60000,
            "_view_module": "@jupyter-widgets/controls",
            "_model_module_version": "1.5.0",
            "value": 60000,
            "_view_count": null,
            "_view_module_version": "1.5.0",
            "orientation": "horizontal",
            "min": 0,
            "description_tooltip": null,
            "_model_module": "@jupyter-widgets/controls",
            "layout": "IPY_MODEL_b451f5e626d34717829143a4685287bb"
          }
        },
        "2688faa3e0e54bff813ed8a3c68336ff": {
          "model_module": "@jupyter-widgets/controls",
          "model_name": "HTMLModel",
          "state": {
            "_view_name": "HTMLView",
            "style": "IPY_MODEL_27d7fedc300c471eaa6e2b9b1db7b750",
            "_dom_classes": [],
            "description": "",
            "_model_name": "HTMLModel",
            "placeholder": "​",
            "_view_module": "@jupyter-widgets/controls",
            "_model_module_version": "1.5.0",
            "value": " 60000/60000 [09:02&lt;00:00, 110.69it/s]",
            "_view_count": null,
            "_view_module_version": "1.5.0",
            "description_tooltip": null,
            "_model_module": "@jupyter-widgets/controls",
            "layout": "IPY_MODEL_84d01b6c1cb4454992b25d5aef74b475"
          }
        },
        "58f235261f5c41018f66d698e3c1e3a6": {
          "model_module": "@jupyter-widgets/controls",
          "model_name": "ProgressStyleModel",
          "state": {
            "_view_name": "StyleView",
            "_model_name": "ProgressStyleModel",
            "description_width": "initial",
            "_view_module": "@jupyter-widgets/base",
            "_model_module_version": "1.5.0",
            "_view_count": null,
            "_view_module_version": "1.2.0",
            "bar_color": null,
            "_model_module": "@jupyter-widgets/controls"
          }
        },
        "b451f5e626d34717829143a4685287bb": {
          "model_module": "@jupyter-widgets/base",
          "model_name": "LayoutModel",
          "state": {
            "_view_name": "LayoutView",
            "grid_template_rows": null,
            "right": null,
            "justify_content": null,
            "_view_module": "@jupyter-widgets/base",
            "overflow": null,
            "_model_module_version": "1.2.0",
            "_view_count": null,
            "flex_flow": null,
            "width": null,
            "min_width": null,
            "border": null,
            "align_items": null,
            "bottom": null,
            "_model_module": "@jupyter-widgets/base",
            "top": null,
            "grid_column": null,
            "overflow_y": null,
            "overflow_x": null,
            "grid_auto_flow": null,
            "grid_area": null,
            "grid_template_columns": null,
            "flex": null,
            "_model_name": "LayoutModel",
            "justify_items": null,
            "grid_row": null,
            "max_height": null,
            "align_content": null,
            "visibility": null,
            "align_self": null,
            "height": null,
            "min_height": null,
            "padding": null,
            "grid_auto_rows": null,
            "grid_gap": null,
            "max_width": null,
            "order": null,
            "_view_module_version": "1.2.0",
            "grid_template_areas": null,
            "object_position": null,
            "object_fit": null,
            "grid_auto_columns": null,
            "margin": null,
            "display": null,
            "left": null
          }
        },
        "27d7fedc300c471eaa6e2b9b1db7b750": {
          "model_module": "@jupyter-widgets/controls",
          "model_name": "DescriptionStyleModel",
          "state": {
            "_view_name": "StyleView",
            "_model_name": "DescriptionStyleModel",
            "description_width": "",
            "_view_module": "@jupyter-widgets/base",
            "_model_module_version": "1.5.0",
            "_view_count": null,
            "_view_module_version": "1.2.0",
            "_model_module": "@jupyter-widgets/controls"
          }
        },
        "84d01b6c1cb4454992b25d5aef74b475": {
          "model_module": "@jupyter-widgets/base",
          "model_name": "LayoutModel",
          "state": {
            "_view_name": "LayoutView",
            "grid_template_rows": null,
            "right": null,
            "justify_content": null,
            "_view_module": "@jupyter-widgets/base",
            "overflow": null,
            "_model_module_version": "1.2.0",
            "_view_count": null,
            "flex_flow": null,
            "width": null,
            "min_width": null,
            "border": null,
            "align_items": null,
            "bottom": null,
            "_model_module": "@jupyter-widgets/base",
            "top": null,
            "grid_column": null,
            "overflow_y": null,
            "overflow_x": null,
            "grid_auto_flow": null,
            "grid_area": null,
            "grid_template_columns": null,
            "flex": null,
            "_model_name": "LayoutModel",
            "justify_items": null,
            "grid_row": null,
            "max_height": null,
            "align_content": null,
            "visibility": null,
            "align_self": null,
            "height": null,
            "min_height": null,
            "padding": null,
            "grid_auto_rows": null,
            "grid_gap": null,
            "max_width": null,
            "order": null,
            "_view_module_version": "1.2.0",
            "grid_template_areas": null,
            "object_position": null,
            "object_fit": null,
            "grid_auto_columns": null,
            "margin": null,
            "display": null,
            "left": null
          }
        },
        "8702a1df65214014bb71f8fbc27da4b4": {
          "model_module": "@jupyter-widgets/controls",
          "model_name": "HBoxModel",
          "state": {
            "_view_name": "HBoxView",
            "_dom_classes": [],
            "_model_name": "HBoxModel",
            "_view_module": "@jupyter-widgets/controls",
            "_model_module_version": "1.5.0",
            "_view_count": null,
            "_view_module_version": "1.5.0",
            "box_style": "",
            "layout": "IPY_MODEL_ac3ee4288a324605960719fc7f178399",
            "_model_module": "@jupyter-widgets/controls",
            "children": [
              "IPY_MODEL_d415bee7c0064ed791b028e0e17b31e0",
              "IPY_MODEL_601712a91c664193ab65750b67d3fa2c"
            ]
          }
        },
        "ac3ee4288a324605960719fc7f178399": {
          "model_module": "@jupyter-widgets/base",
          "model_name": "LayoutModel",
          "state": {
            "_view_name": "LayoutView",
            "grid_template_rows": null,
            "right": null,
            "justify_content": null,
            "_view_module": "@jupyter-widgets/base",
            "overflow": null,
            "_model_module_version": "1.2.0",
            "_view_count": null,
            "flex_flow": null,
            "width": null,
            "min_width": null,
            "border": null,
            "align_items": null,
            "bottom": null,
            "_model_module": "@jupyter-widgets/base",
            "top": null,
            "grid_column": null,
            "overflow_y": null,
            "overflow_x": null,
            "grid_auto_flow": null,
            "grid_area": null,
            "grid_template_columns": null,
            "flex": null,
            "_model_name": "LayoutModel",
            "justify_items": null,
            "grid_row": null,
            "max_height": null,
            "align_content": null,
            "visibility": null,
            "align_self": null,
            "height": null,
            "min_height": null,
            "padding": null,
            "grid_auto_rows": null,
            "grid_gap": null,
            "max_width": null,
            "order": null,
            "_view_module_version": "1.2.0",
            "grid_template_areas": null,
            "object_position": null,
            "object_fit": null,
            "grid_auto_columns": null,
            "margin": null,
            "display": null,
            "left": null
          }
        },
        "d415bee7c0064ed791b028e0e17b31e0": {
          "model_module": "@jupyter-widgets/controls",
          "model_name": "FloatProgressModel",
          "state": {
            "_view_name": "ProgressView",
            "style": "IPY_MODEL_23c6b9501f944dd5b1daa10b8ded3f6a",
            "_dom_classes": [],
            "description": "100%",
            "_model_name": "FloatProgressModel",
            "bar_style": "success",
            "max": 60000,
            "_view_module": "@jupyter-widgets/controls",
            "_model_module_version": "1.5.0",
            "value": 60000,
            "_view_count": null,
            "_view_module_version": "1.5.0",
            "orientation": "horizontal",
            "min": 0,
            "description_tooltip": null,
            "_model_module": "@jupyter-widgets/controls",
            "layout": "IPY_MODEL_35ada981298c464f9e5d7417f7f8b8ef"
          }
        },
        "601712a91c664193ab65750b67d3fa2c": {
          "model_module": "@jupyter-widgets/controls",
          "model_name": "HTMLModel",
          "state": {
            "_view_name": "HTMLView",
            "style": "IPY_MODEL_f4cb80f1ba7f48f0a4b69e1547fabed7",
            "_dom_classes": [],
            "description": "",
            "_model_name": "HTMLModel",
            "placeholder": "​",
            "_view_module": "@jupyter-widgets/controls",
            "_model_module_version": "1.5.0",
            "value": " 60000/60000 [02:21&lt;00:00, 423.20it/s]",
            "_view_count": null,
            "_view_module_version": "1.5.0",
            "description_tooltip": null,
            "_model_module": "@jupyter-widgets/controls",
            "layout": "IPY_MODEL_b2e6ec4c66494315b00f400ebfef4681"
          }
        },
        "23c6b9501f944dd5b1daa10b8ded3f6a": {
          "model_module": "@jupyter-widgets/controls",
          "model_name": "ProgressStyleModel",
          "state": {
            "_view_name": "StyleView",
            "_model_name": "ProgressStyleModel",
            "description_width": "initial",
            "_view_module": "@jupyter-widgets/base",
            "_model_module_version": "1.5.0",
            "_view_count": null,
            "_view_module_version": "1.2.0",
            "bar_color": null,
            "_model_module": "@jupyter-widgets/controls"
          }
        },
        "35ada981298c464f9e5d7417f7f8b8ef": {
          "model_module": "@jupyter-widgets/base",
          "model_name": "LayoutModel",
          "state": {
            "_view_name": "LayoutView",
            "grid_template_rows": null,
            "right": null,
            "justify_content": null,
            "_view_module": "@jupyter-widgets/base",
            "overflow": null,
            "_model_module_version": "1.2.0",
            "_view_count": null,
            "flex_flow": null,
            "width": null,
            "min_width": null,
            "border": null,
            "align_items": null,
            "bottom": null,
            "_model_module": "@jupyter-widgets/base",
            "top": null,
            "grid_column": null,
            "overflow_y": null,
            "overflow_x": null,
            "grid_auto_flow": null,
            "grid_area": null,
            "grid_template_columns": null,
            "flex": null,
            "_model_name": "LayoutModel",
            "justify_items": null,
            "grid_row": null,
            "max_height": null,
            "align_content": null,
            "visibility": null,
            "align_self": null,
            "height": null,
            "min_height": null,
            "padding": null,
            "grid_auto_rows": null,
            "grid_gap": null,
            "max_width": null,
            "order": null,
            "_view_module_version": "1.2.0",
            "grid_template_areas": null,
            "object_position": null,
            "object_fit": null,
            "grid_auto_columns": null,
            "margin": null,
            "display": null,
            "left": null
          }
        },
        "f4cb80f1ba7f48f0a4b69e1547fabed7": {
          "model_module": "@jupyter-widgets/controls",
          "model_name": "DescriptionStyleModel",
          "state": {
            "_view_name": "StyleView",
            "_model_name": "DescriptionStyleModel",
            "description_width": "",
            "_view_module": "@jupyter-widgets/base",
            "_model_module_version": "1.5.0",
            "_view_count": null,
            "_view_module_version": "1.2.0",
            "_model_module": "@jupyter-widgets/controls"
          }
        },
        "b2e6ec4c66494315b00f400ebfef4681": {
          "model_module": "@jupyter-widgets/base",
          "model_name": "LayoutModel",
          "state": {
            "_view_name": "LayoutView",
            "grid_template_rows": null,
            "right": null,
            "justify_content": null,
            "_view_module": "@jupyter-widgets/base",
            "overflow": null,
            "_model_module_version": "1.2.0",
            "_view_count": null,
            "flex_flow": null,
            "width": null,
            "min_width": null,
            "border": null,
            "align_items": null,
            "bottom": null,
            "_model_module": "@jupyter-widgets/base",
            "top": null,
            "grid_column": null,
            "overflow_y": null,
            "overflow_x": null,
            "grid_auto_flow": null,
            "grid_area": null,
            "grid_template_columns": null,
            "flex": null,
            "_model_name": "LayoutModel",
            "justify_items": null,
            "grid_row": null,
            "max_height": null,
            "align_content": null,
            "visibility": null,
            "align_self": null,
            "height": null,
            "min_height": null,
            "padding": null,
            "grid_auto_rows": null,
            "grid_gap": null,
            "max_width": null,
            "order": null,
            "_view_module_version": "1.2.0",
            "grid_template_areas": null,
            "object_position": null,
            "object_fit": null,
            "grid_auto_columns": null,
            "margin": null,
            "display": null,
            "left": null
          }
        }
      }
    },
    "accelerator": "GPU"
  },
  "cells": [
    {
      "cell_type": "code",
      "metadata": {
        "colab": {
          "base_uri": "https://localhost:8080/"
        },
        "id": "8K-Vyiddwn7X",
        "outputId": "0c7c2476-12d7-451d-d19b-6a82c35e26eb"
      },
      "source": [
        "from tensorflow.keras.datasets import mnist\r\n",
        "(X,Y),(X_test,Y_test)=mnist.load_data()"
      ],
      "execution_count": 1,
      "outputs": [
        {
          "output_type": "stream",
          "text": [
            "Downloading data from https://storage.googleapis.com/tensorflow/tf-keras-datasets/mnist.npz\n",
            "11493376/11490434 [==============================] - 0s 0us/step\n"
          ],
          "name": "stdout"
        }
      ]
    },
    {
      "cell_type": "code",
      "metadata": {
        "id": "f9iAUMifxFOk"
      },
      "source": [
        "from matplotlib import pyplot as plt\r\n",
        "import numpy as np\r\n",
        "import cv2\r\n",
        "import pandas as pd"
      ],
      "execution_count": 2,
      "outputs": []
    },
    {
      "cell_type": "code",
      "metadata": {
        "id": "coZMkEw1b0kz"
      },
      "source": [
        "import torch"
      ],
      "execution_count": 3,
      "outputs": []
    },
    {
      "cell_type": "code",
      "metadata": {
        "id": "XbCKdErEabfe"
      },
      "source": [
        "from sklearn.neighbors import KNeighborsClassifier\r\n",
        "from sklearn import metrics"
      ],
      "execution_count": 4,
      "outputs": []
    },
    {
      "cell_type": "code",
      "metadata": {
        "colab": {
          "base_uri": "https://localhost:8080/"
        },
        "id": "vabWT9tyxGSf",
        "outputId": "11e3f477-694a-4f89-89f1-36f5cea8582c"
      },
      "source": [
        "X.shape"
      ],
      "execution_count": 5,
      "outputs": [
        {
          "output_type": "execute_result",
          "data": {
            "text/plain": [
              "(60000, 28, 28)"
            ]
          },
          "metadata": {
            "tags": []
          },
          "execution_count": 5
        }
      ]
    },
    {
      "cell_type": "code",
      "metadata": {
        "id": "XypBfXB5xLRZ"
      },
      "source": [
        "X = X.reshape((60000, 28*28)) #Flattaning"
      ],
      "execution_count": 6,
      "outputs": []
    },
    {
      "cell_type": "code",
      "metadata": {
        "colab": {
          "base_uri": "https://localhost:8080/"
        },
        "id": "TP5uSXv4xp_m",
        "outputId": "8c7ea00c-6713-471b-e14c-39aad433cf32"
      },
      "source": [
        "avg=X-X.mean(axis=0)\r\n",
        "print(avg.shape)"
      ],
      "execution_count": 7,
      "outputs": [
        {
          "output_type": "stream",
          "text": [
            "(60000, 784)\n"
          ],
          "name": "stdout"
        }
      ]
    },
    {
      "cell_type": "code",
      "metadata": {
        "colab": {
          "base_uri": "https://localhost:8080/"
        },
        "id": "OVNqcycqxwQa",
        "outputId": "b3edb037-15e5-448b-c590-981eae0bb3b6"
      },
      "source": [
        "cov_ims = np.cov(avg.T)\r\n",
        "print(cov_ims.shape)"
      ],
      "execution_count": 8,
      "outputs": [
        {
          "output_type": "stream",
          "text": [
            "(784, 784)\n"
          ],
          "name": "stdout"
        }
      ]
    },
    {
      "cell_type": "code",
      "metadata": {
        "colab": {
          "base_uri": "https://localhost:8080/"
        },
        "id": "V3V8_LIdyJ1Z",
        "outputId": "5b0abed5-44c1-4330-ad33-1d7940ec1da9"
      },
      "source": [
        "u, v = np.linalg.eigh(cov_ims)\r\n",
        "print(u.shape, v.shape)"
      ],
      "execution_count": 9,
      "outputs": [
        {
          "output_type": "stream",
          "text": [
            "(784,) (784, 784)\n"
          ],
          "name": "stdout"
        }
      ]
    },
    {
      "cell_type": "code",
      "metadata": {
        "colab": {
          "base_uri": "https://localhost:8080/"
        },
        "id": "54jFOiG2yPDR",
        "outputId": "5499deac-58fb-45d1-c39e-df55ab875c4a"
      },
      "source": [
        "print(u[0], u[-1]) #range of eigen values"
      ],
      "execution_count": 10,
      "outputs": [
        {
          "output_type": "stream",
          "text": [
            "-6.762508007005859e-11 332724.6674465682\n"
          ],
          "name": "stdout"
        }
      ]
    },
    {
      "cell_type": "code",
      "metadata": {
        "id": "myVska1RgaTH"
      },
      "source": [
        "vt=torch.from_numpy(v)\r\n",
        "xt=torch.from_numpy(X)\r\n",
        "Txt=torch.from_numpy(X_test)"
      ],
      "execution_count": 11,
      "outputs": []
    },
    {
      "cell_type": "code",
      "metadata": {
        "id": "t9pyNyqtWIxN"
      },
      "source": [
        "if torch.cuda.is_available():\r\n",
        "    device1 = torch.device(\"cuda\")"
      ],
      "execution_count": 12,
      "outputs": []
    },
    {
      "cell_type": "code",
      "metadata": {
        "id": "gt8SEHIWUd-o"
      },
      "source": [
        "z=X.mean(axis=0)\r\n",
        "zt=torch.from_numpy(z)"
      ],
      "execution_count": 13,
      "outputs": []
    },
    {
      "cell_type": "code",
      "metadata": {
        "id": "PACTHmZCkPUi"
      },
      "source": [
        "xt =xt.to(device1)\r\n",
        "zt =zt.to(device1)\r\n",
        "vt =vt.to(device1)\r\n",
        "Txt=Txt.to(device1)\r\n",
        "xt = xt.double()\r\n",
        "zt = zt.double()\r\n",
        "vt =vt.double()"
      ],
      "execution_count": 14,
      "outputs": []
    },
    {
      "cell_type": "code",
      "metadata": {
        "id": "HWXvV1NymnfZ"
      },
      "source": [
        "import tqdm\r\n",
        "from tqdm import tqdm_notebook"
      ],
      "execution_count": 15,
      "outputs": []
    },
    {
      "cell_type": "code",
      "metadata": {
        "id": "I12N6O9fBkdM"
      },
      "source": [
        "device2 = torch.device(\"cpu\")"
      ],
      "execution_count": 16,
      "outputs": []
    },
    {
      "cell_type": "code",
      "metadata": {
        "id": "nfpmU_CdGv8R"
      },
      "source": [
        ""
      ],
      "execution_count": 16,
      "outputs": []
    },
    {
      "cell_type": "code",
      "metadata": {
        "id": "mHxXNKNHZoOR"
      },
      "source": [
        "def knn1(X_test,X_train,Y_train,k):\r\n",
        "  X = X_train.reshape((60000, 28*28))\r\n",
        "  Xt=X_test.reshape((len(X_test), 28*28))\r\n",
        "  model = KNeighborsClassifier(n_neighbors=k)\r\n",
        "  model.fit(X,Y_train)\r\n",
        "  p=[]\r\n",
        "  \r\n",
        "  q=model.predict(Xt)\r\n",
        "\r\n",
        "  return q"
      ],
      "execution_count": 17,
      "outputs": []
    },
    {
      "cell_type": "code",
      "metadata": {
        "id": "YwCZ1uMWW4xC"
      },
      "source": [
        "def accuracy(p,Y_test):\r\n",
        "  count=0\r\n",
        "  for i in range(len(p)):\r\n",
        "          if(p[i]==Y_test[i]):\r\n",
        "            count=count+1\r\n",
        "\r\n",
        "  error_rate=(count/len(p))*100\r\n",
        "  return (error_rate)"
      ],
      "execution_count": 18,
      "outputs": []
    },
    {
      "cell_type": "code",
      "metadata": {
        "id": "GyJW3LOHZTjW"
      },
      "source": [
        "k_values=[3,5,7,9]"
      ],
      "execution_count": 19,
      "outputs": []
    },
    {
      "cell_type": "code",
      "metadata": {
        "colab": {
          "base_uri": "https://localhost:8080/",
          "height": 66,
          "referenced_widgets": [
            "e515a36736b74b2aa7f0cb9b35bc4f27",
            "ad2700856f1046c483076dfde5389855",
            "eb06d8b293ef4690bfce284c4e658fe7",
            "2688faa3e0e54bff813ed8a3c68336ff",
            "58f235261f5c41018f66d698e3c1e3a6",
            "b451f5e626d34717829143a4685287bb",
            "27d7fedc300c471eaa6e2b9b1db7b750",
            "84d01b6c1cb4454992b25d5aef74b475"
          ]
        },
        "id": "67wVUMi4Md6H",
        "outputId": "f31362fd-8420-4398-bbf8-1acf6d1e00d2"
      },
      "source": [
        "X_rc=[]\r\n",
        "for i in tqdm.notebook.tqdm  (range(len(xt))):\r\n",
        "  #No. of comp\r\n",
        "  c=xt.mean(axis=0)+vt[:,774:784] @ vt[:,774:784].T @ xt[i]\r\n",
        "  X_rc.append(c.to(\"cpu\"))"
      ],
      "execution_count": 20,
      "outputs": [
        {
          "output_type": "display_data",
          "data": {
            "application/vnd.jupyter.widget-view+json": {
              "model_id": "e515a36736b74b2aa7f0cb9b35bc4f27",
              "version_minor": 0,
              "version_major": 2
            },
            "text/plain": [
              "HBox(children=(FloatProgress(value=0.0, max=60000.0), HTML(value='')))"
            ]
          },
          "metadata": {
            "tags": []
          }
        },
        {
          "output_type": "stream",
          "text": [
            "\n"
          ],
          "name": "stdout"
        }
      ]
    },
    {
      "cell_type": "code",
      "metadata": {
        "id": "ogc7YoxQSt_k"
      },
      "source": [
        "X_rc_img=[]\r\n",
        "for i in X_rc:\r\n",
        "  X_rc_img.append(i.numpy())\r\n",
        "X_rc_img = np.array(X_rc_img)\r\n",
        "Xrc=X_rc_img.reshape((60000, 28, 28))"
      ],
      "execution_count": 21,
      "outputs": []
    },
    {
      "cell_type": "code",
      "metadata": {
        "colab": {
          "base_uri": "https://localhost:8080/",
          "height": 265
        },
        "id": "WHmKjQHgPYwy",
        "outputId": "63c1d7fd-7687-4609-ea90-6a0e42732366"
      },
      "source": [
        "plt.imshow(Xrc[0])\r\n",
        "plt.show()"
      ],
      "execution_count": 22,
      "outputs": [
        {
          "output_type": "display_data",
          "data": {
            "image/png": "[encoded data removed]",
            "text/plain": [
              "<Figure size 432x288 with 1 Axes>"
            ]
          },
          "metadata": {
            "tags": [],
            "needs_background": "light"
          }
        }
      ]
    },
    {
      "cell_type": "code",
      "metadata": {
        "colab": {
          "base_uri": "https://localhost:8080/"
        },
        "id": "t54iRONPtUrV",
        "outputId": "86aa0a25-5381-456f-cac2-ddf2ddf9345b"
      },
      "source": [
        "for i in k_values:  \r\n",
        "  p=knn1(X_test[:1000],Xrc,Y,i)\r\n",
        "  acc=accuracy(p,Y_test)\r\n",
        "  print(i,acc)"
      ],
      "execution_count": 25,
      "outputs": [
        {
          "output_type": "stream",
          "text": [
            "3 61.5\n",
            "5 61.7\n",
            "7 61.5\n",
            "9 60.5\n"
          ],
          "name": "stdout"
        }
      ]
    },
    {
      "cell_type": "code",
      "metadata": {
        "colab": {
          "base_uri": "https://localhost:8080/",
          "height": 66,
          "referenced_widgets": [
            "8702a1df65214014bb71f8fbc27da4b4",
            "ac3ee4288a324605960719fc7f178399",
            "d415bee7c0064ed791b028e0e17b31e0",
            "601712a91c664193ab65750b67d3fa2c",
            "23c6b9501f944dd5b1daa10b8ded3f6a",
            "35ada981298c464f9e5d7417f7f8b8ef",
            "f4cb80f1ba7f48f0a4b69e1547fabed7",
            "b2e6ec4c66494315b00f400ebfef4681"
          ]
        },
        "id": "6qBnslksNa6-",
        "outputId": "5b34fe44-12cb-4b3e-9aee-a0fcd301256b"
      },
      "source": [
        "X_rc1=[]\r\n",
        "for i in tqdm.notebook.tqdm  (range(len(xt))):\r\n",
        "  c=xt.mean(axis=0)+vt[:,684:784] @ vt[:,684:784].T @ xt[i]\r\n",
        "  X_rc1.append(c.to(\"cpu\"))"
      ],
      "execution_count": 27,
      "outputs": [
        {
          "output_type": "display_data",
          "data": {
            "application/vnd.jupyter.widget-view+json": {
              "model_id": "8702a1df65214014bb71f8fbc27da4b4",
              "version_minor": 0,
              "version_major": 2
            },
            "text/plain": [
              "HBox(children=(FloatProgress(value=0.0, max=60000.0), HTML(value='')))"
            ]
          },
          "metadata": {
            "tags": []
          }
        },
        {
          "output_type": "stream",
          "text": [
            "\n"
          ],
          "name": "stdout"
        }
      ]
    },
    {
      "cell_type": "code",
      "metadata": {
        "id": "T3gz0aPyURjO"
      },
      "source": [
        "X_rc_img1=[]\r\n",
        "for i in X_rc1:\r\n",
        "  X_rc_img1.append(i.numpy())\r\n",
        "X_rc_img1 = np.array(X_rc_img1)\r\n",
        "Xrc1=X_rc_img1.reshape((60000, 28, 28))"
      ],
      "execution_count": 28,
      "outputs": []
    },
    {
      "cell_type": "code",
      "metadata": {
        "colab": {
          "base_uri": "https://localhost:8080/",
          "height": 265
        },
        "id": "K7Ho7ZXGOrou",
        "outputId": "f0634d7a-cfc8-479b-9186-c12ac600a08e"
      },
      "source": [
        "plt.imshow(Xrc1[0])\r\n",
        "plt.show()"
      ],
      "execution_count": 29,
      "outputs": [
        {
          "output_type": "display_data",
          "data": {
            "image/png": "[encoded data removed]",
            "text/plain": [
              "<Figure size 432x288 with 1 Axes>"
            ]
          },
          "metadata": {
            "tags": [],
            "needs_background": "light"
          }
        }
      ]
    },
    {
      "cell_type": "code",
      "metadata": {
        "id": "kvxMueqHJp4w"
      },
      "source": [
        "for i in k_values:  \r\n",
        "  p=knn1(X_test[:5000],Xrc1,Y,i)\r\n",
        "  acc=accuracy(p,Y_test)\r\n",
        "  print(i,acc)"
      ],
      "execution_count": null,
      "outputs": []
    },
    {
      "cell_type": "code",
      "metadata": {
        "id": "VTYtFsdGPfD-"
      },
      "source": [
        "X_rc2=[]\r\n",
        "for i in tqdm.notebook.tqdm  (range(len(xt))):\r\n",
        "  c=xt.mean(axis=0)+vt[:,734:784] @ vt[:,734:784].T @ xt[i]\r\n",
        "  X_rc2.append(c.to(\"cpu\"))"
      ],
      "execution_count": null,
      "outputs": []
    },
    {
      "cell_type": "code",
      "metadata": {
        "id": "Kicma7ewUcao"
      },
      "source": [
        "X_rc_img2=[]\r\n",
        "for i in X_rc2:\r\n",
        "  X_rc_img2.append(i.numpy())\r\n",
        "X_rc_img2 = np.array(X_rc_img2)\r\n",
        "Xrc2=X_rc_img2.reshape((60000, 28, 28))"
      ],
      "execution_count": null,
      "outputs": []
    },
    {
      "cell_type": "code",
      "metadata": {
        "id": "yMZnvMArPg4-"
      },
      "source": [
        "plt.imshow(Xrc2[0])\r\n",
        "plt.show()"
      ],
      "execution_count": null,
      "outputs": []
    },
    {
      "cell_type": "code",
      "metadata": {
        "id": "jbt981jZPexG"
      },
      "source": [
        "for i in k_values:\r\n",
        "  p=knn(X_test[:100],Xrc2,Y,i)\r\n",
        "  acc=accuracy(p,Y_test)\r\n",
        "  print(i,acc)"
      ],
      "execution_count": null,
      "outputs": []
    },
    {
      "cell_type": "code",
      "metadata": {
        "id": "hYZYobgBJuv6"
      },
      "source": [
        "for i in k_values:  \r\n",
        "  p=knn1(X_test[:1000],Xrc2,Y,i)\r\n",
        "  acc=accuracy(p,Y_test)\r\n",
        "  print(i,acc)"
      ],
      "execution_count": null,
      "outputs": []
    },
    {
      "cell_type": "code",
      "metadata": {
        "id": "dhVh086fPcgT"
      },
      "source": [
        "X_rc3=[]\r\n",
        "for i in tqdm.notebook.tqdm  (range(len(xt))):\r\n",
        "  c=xt.mean(axis=0)+vt[:,684:784] @ vt[:,684:784].T @ xt[i]\r\n",
        "  X_rc3.append(c.to(\"cpu\"))"
      ],
      "execution_count": null,
      "outputs": []
    },
    {
      "cell_type": "code",
      "metadata": {
        "id": "4pm0pQ0QUo3j"
      },
      "source": [
        "X_rc_img3=[]\r\n",
        "for i in X_rc3:\r\n",
        "  X_rc_img3.append(i.numpy())\r\n",
        "X_rc_img3 = np.array(X_rc_img3)\r\n",
        "Xrc3=X_rc_img3.reshape((60000, 28, 28))"
      ],
      "execution_count": null,
      "outputs": []
    },
    {
      "cell_type": "code",
      "metadata": {
        "id": "0AwhRut9PpRE"
      },
      "source": [
        "plt.imshow(Xrc3[0])\r\n",
        "plt.show()"
      ],
      "execution_count": null,
      "outputs": []
    },
    {
      "cell_type": "code",
      "metadata": {
        "id": "kKhpS3S4JxxC"
      },
      "source": [
        "for i in k_values:  \r\n",
        "  p=knn1(X_test[:1000],Xrc3,Y,i)\r\n",
        "  acc=accuracy(p,Y_test)\r\n",
        "  print(i,acc)"
      ],
      "execution_count": null,
      "outputs": []
    },
    {
      "cell_type": "code",
      "metadata": {
        "id": "-F5OxLWSILMq"
      },
      "source": [
        ""
      ],
      "execution_count": null,
      "outputs": []
    }
  ]
}