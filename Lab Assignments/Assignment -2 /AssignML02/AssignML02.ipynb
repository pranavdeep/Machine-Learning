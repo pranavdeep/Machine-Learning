{
 "cells": [
  {
   "cell_type": "code",
   "execution_count": 1,
   "metadata": {},
   "outputs": [],
   "source": [
    "import numpy as np\n",
    "import os\n",
    "import matplotlib.pyplot as plt\n",
    "import tensorflow as tf\n",
    "import _pickle as pickle\n",
    "import math\n",
    "import scipy.spatial.distance as sp\n"
   ]
  },
  {
   "cell_type": "code",
   "execution_count": 2,
   "metadata": {},
   "outputs": [],
   "source": [
    "#(x_train, y_train), (x_test, y_test) = tf.keras.datasets.cifar10.load_data()"
   ]
  },
  {
   "cell_type": "code",
   "execution_count": 3,
   "metadata": {},
   "outputs": [],
   "source": [
    "cifar10_dataset_folder_path = '/home/pranav/My Data/M.Tech/ML/Lab Assignments/Assignment-1/cifar-10-python/cifar-10-batches-py/'\n",
    "\n"
   ]
  },
  {
   "cell_type": "code",
   "execution_count": 4,
   "metadata": {},
   "outputs": [],
   "source": [
    "\n",
    "# Load single batch of cifar\n",
    "def load_cifar_batch(filename):\n",
    "    with open(filename, 'rb') as f:\n",
    "        datadict = pickle.load(f, encoding='latin1')\n",
    "    return datadict['data'].astype(np.float64), np.array(datadict['labels'])\n",
    "\n",
    "\n",
    "# Load all of cifar\n",
    "def load_cifar(folder):\n",
    "    with open(os.path.join(folder, 'batches.meta'), 'rb') as f:\n",
    "        names = pickle.load(f, encoding='latin1')\n",
    "    training_data = np.empty([50000, 3072], dtype=np.float64)\n",
    "    training_labels = np.empty([50000], dtype=np.uint8)\n",
    "    for i in range(1, 6):\n",
    "        start = (i - 1) * 10000\n",
    "        end = i * 10000\n",
    "        training_data[start:end], training_labels[start:end] = \\\n",
    "            load_cifar_batch(os.path.join(folder, 'data_batch_%d' % i))\n",
    "    testing_data, testing_labels = load_cifar_batch(os.path.join(folder, 'test_batch'))\n",
    "    training_data_grayscale = training_data.reshape((50000, 3, 1024)).transpose((0, 2, 1))\n",
    "    training_data_grayscale = np.mean(training_data_grayscale, axis=2)\n",
    "    testing_data_grayscale = testing_data.reshape((10000, 3, 1024)).transpose((0, 2, 1))\n",
    "    testing_data_grayscale = np.mean(testing_data_grayscale, axis=2)\n",
    "    return training_data, training_data_grayscale, training_labels, testing_data, testing_data_grayscale,\\\n",
    "        testing_labels, names['label_names']\n",
    "\n",
    "\n",
    "# Load part of cifar for cross validation\n",
    "def load_cifar_cross_validation(folder, i):\n",
    "    td = np.empty([40000, 3072], dtype=np.float64)\n",
    "    tl = np.empty([40000], dtype=np.uint8)\n",
    "    for j in range(1, 6):\n",
    "        if i != j:\n",
    "            if j < i:\n",
    "                diff = 1\n",
    "            else:\n",
    "                diff = 2\n",
    "            start = (j - diff) * 10000\n",
    "            end = (j - diff + 1) * 10000\n",
    "            td[start:end, :], tl[start:end] = \\\n",
    "                load_cifar_batch(os.path.join(folder, 'data_batch_%d' % j))\n",
    "    vd, vl = load_cifar_batch(os.path.join(folder, 'data_batch_%d' % i))\n",
    "    return td, tl, vd, vl"
   ]
  },
  {
   "cell_type": "code",
   "execution_count": 5,
   "metadata": {},
   "outputs": [],
   "source": [
    "class KNN(object):\n",
    "\n",
    "    def __init__(self):\n",
    "        pass\n",
    "\n",
    "    def train(self, data, labels):\n",
    "        # data is N x D where each row is a data point. labels is 1-dimension of size N\n",
    "        # KNN classifier simply remembers all the training data\n",
    "        self.training_data = data\n",
    "        self.training_labels = labels\n",
    "\n",
    "    def predict(self, data, k, l):\n",
    "        # data is M x D where each row is a data point, k is the number of nearest neighbours, l  is the distance metric ('L1' or 'L2')\n",
    "        # y_predict is the predicted labels of data\n",
    "        y_predict = np.zeros(data.shape[0], dtype=self.training_labels.dtype)\n",
    "        if l == 'L1':\n",
    "            self.l1(data, k, y_predict)\n",
    "        else:\n",
    "            self.l2(data, k, y_predict)\n",
    "        return y_predict\n",
    "\n",
    "    def l1(self, data, k, y_pred):\n",
    "        # data is M x D where each row is a data point, k is the number of nearest neighbours, y_pred is the predicted labels of data\n",
    "        # Compute Manhattan distance, distances is M x N where each row 'i' is the distances of the ith data point from the training data points\n",
    "        distances = sp.cdist(data, self.training_data, 'cityblock')\n",
    "        for i in range(data.shape[0]):\n",
    "            # Get ith row of distances\n",
    "            curr_distance = distances[i]\n",
    "            # Get the k indexes corresponding to the lowest distances\n",
    "            min_idx = np.argpartition(curr_distance, k)[0:k]\n",
    "            # Get the votes\n",
    "            votes = self.training_labels[min_idx]\n",
    "            # Count the votes\n",
    "            labels_count = np.bincount(votes)\n",
    "            # Choose the majority vote\n",
    "            y_pred[i] = np.argmax(labels_count)\n",
    "\n",
    "    def l2(self, data, k, y_pred):\n",
    "        # data is M x D where each row is a data point, k is the number of nearest neighbours, y_pred is the predicted labels of data\n",
    "        # (a + b)^2 = a^2 + b^2 - 2ab\n",
    "        a_sum_square = np.sum(np.square(self.training_data), axis=1)\n",
    "        b_sum_square = np.sum(np.square(data), axis=1)\n",
    "        two_a_dot_bt = 2 * np.dot(self.training_data, data.T)\n",
    "        # Compute Euclidean distance, distances is N x M where each column 'i' is the distances of the ith data point from the training data points\n",
    "        distances = np.sqrt(a_sum_square[:, np.newaxis] + b_sum_square - two_a_dot_bt)\n",
    "        for i in range(data.shape[0]):\n",
    "            # Get ith column of distances and continue operations on it as normal (get lowest k)\n",
    "            curr_distance = distances[:, i]\n",
    "            # Get the k indexes corresponding to the lowest distances\n",
    "            min_idx = np.argpartition(curr_distance, k)[0:k]\n",
    "            # Get the votes\n",
    "            votes = self.training_labels[min_idx]\n",
    "            # Count the votes\n",
    "            labels_count = np.bincount(votes)\n",
    "            # Choose the majority vote\n",
    "            y_pred[i] = np.argmax(labels_count)"
   ]
  },
  {
   "cell_type": "code",
   "execution_count": 6,
   "metadata": {},
   "outputs": [],
   "source": [
    "\n",
    "k_global = 0\n",
    "accuracy2 = 0\n",
    "#%matplotlib inline\n",
    "plt.rcParams['figure.figsize'] = (10.0, 8.0) # set default size of plots\n",
    "plt.rcParams['image.interpolation'] = 'nearest'\n",
    "plt.rcParams['image.cmap'] = 'gray'\n",
    "\n",
    "def cross_validate(root, l, k, results):\n",
    "    accuracy = np.empty([5], dtype=np.float64)\n",
    "    for i in range(1, 6):\n",
    "        td, tl, vd, vl = load_cifar_cross_validation(root, i)\n",
    "        knn_o = KNN()\n",
    "        knn_o.train(td, tl)\n",
    "        predictions = knn_o.predict(vd, k, l)\n",
    "        num_correct = np.sum(predictions == vl)\n",
    "        accuracy[i - 1] = num_correct / 10000\n",
    "    with lock:\n",
    "        results[k] = accuracy\n",
    "        accuracy2 = accuracy\n",
    "\n",
    "def plot_data(l, res):\n",
    "    for k, v in sorted(res.items()):\n",
    "        plt.scatter([k] * len(v), v)\n",
    "    # Plot the trend line with error bars that correspond to standard deviation\n",
    "    mean = np.array([np.mean(v) for k, v in sorted(res.items())])\n",
    "    std = np.array([np.std(v) for k, v in sorted(res.items())])\n",
    "    plt.errorbar([k for k, v in sorted(res.items())], mean, yerr=std)\n",
    "    plt.title('Cross-validation on %s and k' % (l, ))\n",
    "    plt.xlabel('k')\n",
    "    plt.ylabel('Cross-validation accuracy')\n",
    "    plt.show()\n",
    "\n",
    "def test_cross_validate(l):\n",
    "    num_threads = 2\n",
    "    threads = [None] * num_threads\n",
    "    ks = [1, 3, 5, 7, 9, 10, 13, 17, 20, 50, 75, 100]\n",
    "    root = 'cifar-10-batches-py'\n",
    "    results = dict()\n",
    "    for i in range(len(ks) // num_threads):\n",
    "        for j in range(num_threads):\n",
    "            threads[j] = threading.Thread(target=cross_validate, args=(root, l, ks[i * num_threads + j], results))\n",
    "            threads[j].start()\n",
    "        for j in range(num_threads):\n",
    "            threads[j].join()\n",
    "    k_global = ks        \n",
    "    plot_data(l, results)"
   ]
  },
  {
   "cell_type": "code",
   "execution_count": null,
   "metadata": {},
   "outputs": [],
   "source": [
    "results = []\n",
    "#cross_validate(cifar10_dataset_folder_path, 'L2', 5, results)\n",
    "test_cross_validate('L2')\n"
   ]
  },
  {
   "cell_type": "code",
   "execution_count": null,
   "metadata": {},
   "outputs": [],
   "source": [
    "print(\"Optimal value of k =\",k)\n",
    "print(\"Training error = \" 1 - accuracy)"
   ]
  },
  {
   "cell_type": "code",
   "execution_count": 2,
   "metadata": {},
   "outputs": [
    {
     "ename": "NameError",
     "evalue": "name 'results' is not defined",
     "output_type": "error",
     "traceback": [
      "\u001b[0;31m---------------------------------------------------------------------------\u001b[0m",
      "\u001b[0;31mNameError\u001b[0m                                 Traceback (most recent call last)",
      "\u001b[0;32m<ipython-input-2-30af1b9821bb>\u001b[0m in \u001b[0;36m<module>\u001b[0;34m\u001b[0m\n\u001b[1;32m      1\u001b[0m \u001b[0;32mfrom\u001b[0m \u001b[0msklearn\u001b[0m\u001b[0;34m.\u001b[0m\u001b[0mmetrics\u001b[0m \u001b[0;32mimport\u001b[0m \u001b[0mconfusion_matrix\u001b[0m\u001b[0;34m\u001b[0m\u001b[0;34m\u001b[0m\u001b[0m\n\u001b[0;32m----> 2\u001b[0;31m \u001b[0mconfusion_array\u001b[0m \u001b[0;34m=\u001b[0m \u001b[0mconfusion_matrix\u001b[0m\u001b[0;34m(\u001b[0m\u001b[0mresults\u001b[0m\u001b[0;34m,\u001b[0m \u001b[0mprediction\u001b[0m\u001b[0;34m)\u001b[0m\u001b[0;34m\u001b[0m\u001b[0;34m\u001b[0m\u001b[0m\n\u001b[0m\u001b[1;32m      3\u001b[0m \u001b[0mprint\u001b[0m\u001b[0;34m(\u001b[0m\u001b[0mconfusion_array\u001b[0m\u001b[0;34m)\u001b[0m\u001b[0;34m\u001b[0m\u001b[0;34m\u001b[0m\u001b[0m\n",
      "\u001b[0;31mNameError\u001b[0m: name 'results' is not defined"
     ]
    }
   ],
   "source": [
    "from sklearn.metrics import confusion_matrix\n",
    "confusion_array = confusion_matrix(results, prediction)\n",
    "print(confusion_array)"
   ]
  },
  {
   "cell_type": "code",
   "execution_count": null,
   "metadata": {},
   "outputs": [],
   "source": [
    "import xlsxwriter\n",
    "workbook = xlsxwriter.Workbook('Confusion_Matrix.xlsx')\n",
    "worksheet = workbook.add_worksheet()\n",
    "row = 0\n",
    "temp = np.transpose(confusion_array) \n",
    "for col, data in enumerate(temp):\n",
    "    worksheet.write_column(row, col, data)\n",
    "\n",
    "workbook.close()"
   ]
  }
 ],
 "metadata": {
  "kernelspec": {
   "display_name": "Python 3",
   "language": "python",
   "name": "python3"
  },
  "language_info": {
   "codemirror_mode": {
    "name": "ipython",
    "version": 3
   },
   "file_extension": ".py",
   "mimetype": "text/x-python",
   "name": "python",
   "nbconvert_exporter": "python",
   "pygments_lexer": "ipython3",
   "version": "3.8.3"
  }
 },
 "nbformat": 4,
 "nbformat_minor": 4
}
